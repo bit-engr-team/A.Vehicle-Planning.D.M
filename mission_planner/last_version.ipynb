{
  "cells": [
    {
      "cell_type": "code",
      "execution_count": 3,
      "metadata": {
        "colab": {
          "base_uri": "https://localhost:8080/",
          "height": 378
        },
        "id": "7K7csbtxzYzJ",
        "outputId": "55b47f73-4d2e-436e-dfbc-e86b12cfd0db"
      },
      "outputs": [],
      "source": [
        "import rclpy\n",
        "from rclpy.node import Node\n",
        "from sensor_msgs.msg import NavSatFix, Image\n",
        "import csv\n",
        "import os\n",
        "import numpy as np\n",
        "import matplotlib.pyplot as plt\n",
        "import cv2\n",
        "from cv_bridge import CvBridge\n",
        "\n"
      ]
    },
    {
      "cell_type": "code",
      "execution_count": 6,
      "metadata": {
        "colab": {
          "base_uri": "https://localhost:8080/",
          "height": 207
        },
        "id": "pVHG1GM3zYvf",
        "outputId": "858a0eb0-2164-47d1-f31c-a23356dde8d4"
      },
      "outputs": [],
      "source": [
        "DATA_FILE = \"gnss_data.csv\"\n",
        "WAYPOINT_FILE = \"waypoints.csv\"\n",
        "IMG_TOPIC = \"/mapping/gps_map_image\"\n",
        "\n",
        "class MappingNode(Node):\n",
        "    def __init__(self):\n",
        "        super().__init__('mapping_node')\n",
        "        self.get_logger().info('Mapping node başlatıldı')\n",
        "        self.gps_sub = self.create_subscription(NavSatFix, '/carla/gps', self.gps_callback, 10)\n",
        "        self.img_pub = self.create_publisher(Image, IMG_TOPIC, 1)\n",
        "        self.bridge = CvBridge()\n",
        "        self.gps_points = []\n",
        "        self.load_data()\n",
        "\n",
        "    def load_data(self):\n",
        "        if os.path.exists(DATA_FILE):\n",
        "            with open(DATA_FILE, \"r\") as f:\n",
        "                reader = csv.reader(f)\n",
        "                for row in reader:\n",
        "                    lat, lon, alt, stamp = map(float, row)\n",
        "                    self.gps_points.append((lat, lon, alt, stamp))\n",
        "            self.get_logger().info(f\"{len(self.gps_points)} eski GNSS noktası yüklendi.\")\n",
        "    \n",
        "    def save_point(self, lat, lon, alt, stamp):\n",
        "        with open(DATA_FILE, \"a\") as f:\n",
        "            writer = csv.writer(f)\n",
        "            writer.writerow([lat, lon, alt, stamp])\n",
        "\n",
        "    def gps_callback(self, msg):\n",
        "        lat, lon, alt = msg.latitude, msg.longitude, msg.altitude\n",
        "        stamp = msg.header.stamp.sec + msg.header.stamp.nanosec * 1e-9\n",
        "        self.gps_points.append((lat, lon, alt, stamp))\n",
        "        self.save_point(lat, lon, alt, stamp)\n",
        "        self.get_logger().info(f\"GNSS kaydedildi: {lat:.6f}, {lon:.6f}, {alt:.2f}, {stamp:.2f}\")\n",
        "        self.publish_map_image()\n",
        "\n",
        "    def compute_angle(self, p1, p2, p3):\n",
        "        v1 = np.array([p1[0] - p2[0], p1[1] - p2[1]])\n",
        "        v2 = np.array([p3[0] - p2[0], p3[1] - p2[1]])\n",
        "        if np.linalg.norm(v1) == 0 or np.linalg.norm(v2) == 0:\n",
        "            return 180\n",
        "        unit_v1 = v1 / np.linalg.norm(v1)\n",
        "        unit_v2 = v2 / np.linalg.norm(v2)\n",
        "        dot_product = np.clip(np.dot(unit_v1, unit_v2), -1.0, 1.0)\n",
        "        angle = np.degrees(np.arccos(dot_product))\n",
        "        return angle\n",
        "\n",
        "    def extract_waypoints(self, points, angle_threshold=30):\n",
        "        sorted_points = sorted(points, key=lambda p: p[3])\n",
        "        waypoints = []\n",
        "        for i in range(1, len(sorted_points) - 1):\n",
        "            p1, p2, p3 = sorted_points[i-1], sorted_points[i], sorted_points[i+1]\n",
        "            angle = self.compute_angle(p1, p2, p3)\n",
        "            if angle < (180 - angle_threshold):\n",
        "                waypoints.append(p2)\n",
        "        return waypoints\n",
        "\n",
        "    def publish_map_image(self):\n",
        "        if len(self.gps_points) < 3:\n",
        "            return\n",
        "\n",
        "        sorted_points = sorted(self.gps_points, key=lambda x: x[3])\n",
        "        filtered_points = []\n",
        "        last_lat, last_lon = None, None\n",
        "\n",
        "        for lat, lon, alt, stamp in sorted_points:\n",
        "            if last_lat is not None:\n",
        "                dist = np.sqrt((lat - last_lat)**2 + (lon - last_lon)**2)\n",
        "                if dist < 1e-6:\n",
        "                    continue\n",
        "            filtered_points.append((lat, lon, alt, stamp))\n",
        "            last_lat, last_lon = lat, lon\n",
        "\n",
        "        if len(filtered_points) < 3:\n",
        "            return\n",
        "\n",
        "        # Waypointleri çıkar\n",
        "        waypoints = self.extract_waypoints(filtered_points)\n",
        "\n",
        "        # Harita çizimi\n",
        "        lats = [p[0] for p in filtered_points]\n",
        "        lons = [p[1] for p in filtered_points]\n",
        "\n",
        "        plt.figure(figsize=(6, 6))\n",
        "        plt.plot(lons, lats, 'bo-', markersize=2, label='GNSS Yol')\n",
        "        for wp in waypoints:\n",
        "            plt.plot(wp[1], wp[0], 'ro', markersize=5)  # lon, lat\n",
        "        plt.legend()\n",
        "        plt.xlabel(\"Longitude\")\n",
        "        plt.ylabel(\"Latitude\")\n",
        "        plt.title(\"GNSS Yol ve Waypoint Haritası\")\n",
        "        plt.grid(True)\n",
        "        plt.tight_layout()\n",
        "        plt.savefig(\"map.png\")\n",
        "        plt.close()\n",
        "\n",
        "        # Görseli yayınla\n",
        "        img = cv2.imread(\"map.png\")\n",
        "        if img is not None:\n",
        "            img_msg = self.bridge.cv2_to_imgmsg(img, encoding=\"bgr8\")\n",
        "            self.img_pub.publish(img_msg)\n",
        "\n",
        "        # Waypoint'leri kaydet\n",
        "        with open(WAYPOINT_FILE, \"w\") as f:\n",
        "            writer = csv.writer(f)\n",
        "            for wp in waypoints:\n",
        "                writer.writerow([wp[0], wp[1], wp[2], wp[3]])\n"
      ]
    },
    {
      "cell_type": "code",
      "execution_count": 7,
      "metadata": {
        "id": "pnqbdruezYs4"
      },
      "outputs": [
        {
          "name": "stderr",
          "output_type": "stream",
          "text": [
            "[INFO] [1749403676.275294222] [mapping_node]: Mapping node başlatıldı\n"
          ]
        },
        {
          "ename": "KeyboardInterrupt",
          "evalue": "",
          "output_type": "error",
          "traceback": [
            "\u001b[31m---------------------------------------------------------------------------\u001b[39m",
            "\u001b[31mKeyboardInterrupt\u001b[39m                         Traceback (most recent call last)",
            "\u001b[36mCell\u001b[39m\u001b[36m \u001b[39m\u001b[32mIn[7]\u001b[39m\u001b[32m, line 9\u001b[39m\n\u001b[32m      6\u001b[39m     rclpy.shutdown()\n\u001b[32m      8\u001b[39m \u001b[38;5;28;01mif\u001b[39;00m \u001b[34m__name__\u001b[39m == \u001b[33m'\u001b[39m\u001b[33m__main__\u001b[39m\u001b[33m'\u001b[39m:\n\u001b[32m----> \u001b[39m\u001b[32m9\u001b[39m     \u001b[43mmain\u001b[49m\u001b[43m(\u001b[49m\u001b[43m)\u001b[49m\n",
            "\u001b[36mCell\u001b[39m\u001b[36m \u001b[39m\u001b[32mIn[7]\u001b[39m\u001b[32m, line 4\u001b[39m, in \u001b[36mmain\u001b[39m\u001b[34m(args)\u001b[39m\n\u001b[32m      2\u001b[39m rclpy.init(args=args)\n\u001b[32m      3\u001b[39m node = MappingNode()\n\u001b[32m----> \u001b[39m\u001b[32m4\u001b[39m \u001b[43mrclpy\u001b[49m\u001b[43m.\u001b[49m\u001b[43mspin\u001b[49m\u001b[43m(\u001b[49m\u001b[43mnode\u001b[49m\u001b[43m)\u001b[49m\n\u001b[32m      5\u001b[39m node.destroy_node()\n\u001b[32m      6\u001b[39m rclpy.shutdown()\n",
            "\u001b[36mFile \u001b[39m\u001b[32m/opt/ros/jazzy/lib/python3.12/site-packages/rclpy/__init__.py:244\u001b[39m, in \u001b[36mspin\u001b[39m\u001b[34m(node, executor)\u001b[39m\n\u001b[32m    242\u001b[39m     executor.add_node(node)\n\u001b[32m    243\u001b[39m     \u001b[38;5;28;01mwhile\u001b[39;00m executor.context.ok():\n\u001b[32m--> \u001b[39m\u001b[32m244\u001b[39m         \u001b[43mexecutor\u001b[49m\u001b[43m.\u001b[49m\u001b[43mspin_once\u001b[49m\u001b[43m(\u001b[49m\u001b[43m)\u001b[49m\n\u001b[32m    245\u001b[39m \u001b[38;5;28;01mfinally\u001b[39;00m:\n\u001b[32m    246\u001b[39m     executor.remove_node(node)\n",
            "\u001b[36mFile \u001b[39m\u001b[32m/opt/ros/jazzy/lib/python3.12/site-packages/rclpy/executors.py:839\u001b[39m, in \u001b[36mSingleThreadedExecutor.spin_once\u001b[39m\u001b[34m(self, timeout_sec)\u001b[39m\n\u001b[32m    838\u001b[39m \u001b[38;5;28;01mdef\u001b[39;00m\u001b[38;5;250m \u001b[39m\u001b[34mspin_once\u001b[39m(\u001b[38;5;28mself\u001b[39m, timeout_sec: Optional[\u001b[38;5;28mfloat\u001b[39m] = \u001b[38;5;28;01mNone\u001b[39;00m) -> \u001b[38;5;28;01mNone\u001b[39;00m:\n\u001b[32m--> \u001b[39m\u001b[32m839\u001b[39m     \u001b[38;5;28;43mself\u001b[39;49m\u001b[43m.\u001b[49m\u001b[43m_spin_once_impl\u001b[49m\u001b[43m(\u001b[49m\u001b[43mtimeout_sec\u001b[49m\u001b[43m)\u001b[49m\n",
            "\u001b[36mFile \u001b[39m\u001b[32m/opt/ros/jazzy/lib/python3.12/site-packages/rclpy/executors.py:823\u001b[39m, in \u001b[36mSingleThreadedExecutor._spin_once_impl\u001b[39m\u001b[34m(self, timeout_sec, wait_condition)\u001b[39m\n\u001b[32m    817\u001b[39m \u001b[38;5;28;01mdef\u001b[39;00m\u001b[38;5;250m \u001b[39m\u001b[34m_spin_once_impl\u001b[39m(\n\u001b[32m    818\u001b[39m     \u001b[38;5;28mself\u001b[39m,\n\u001b[32m    819\u001b[39m     timeout_sec: Optional[Union[\u001b[38;5;28mfloat\u001b[39m, TimeoutObject]] = \u001b[38;5;28;01mNone\u001b[39;00m,\n\u001b[32m    820\u001b[39m     wait_condition: Callable[[], \u001b[38;5;28mbool\u001b[39m] = \u001b[38;5;28;01mlambda\u001b[39;00m: \u001b[38;5;28;01mFalse\u001b[39;00m\n\u001b[32m    821\u001b[39m ) -> \u001b[38;5;28;01mNone\u001b[39;00m:\n\u001b[32m    822\u001b[39m     \u001b[38;5;28;01mtry\u001b[39;00m:\n\u001b[32m--> \u001b[39m\u001b[32m823\u001b[39m         handler, entity, node = \u001b[38;5;28;43mself\u001b[39;49m\u001b[43m.\u001b[49m\u001b[43mwait_for_ready_callbacks\u001b[49m\u001b[43m(\u001b[49m\n\u001b[32m    824\u001b[39m \u001b[43m            \u001b[49m\u001b[43mtimeout_sec\u001b[49m\u001b[43m,\u001b[49m\u001b[43m \u001b[49m\u001b[38;5;28;43;01mNone\u001b[39;49;00m\u001b[43m,\u001b[49m\u001b[43m \u001b[49m\u001b[43mwait_condition\u001b[49m\u001b[43m)\u001b[49m\n\u001b[32m    825\u001b[39m     \u001b[38;5;28;01mexcept\u001b[39;00m ShutdownException:\n\u001b[32m    826\u001b[39m         \u001b[38;5;28;01mpass\u001b[39;00m\n",
            "\u001b[36mFile \u001b[39m\u001b[32m/opt/ros/jazzy/lib/python3.12/site-packages/rclpy/executors.py:793\u001b[39m, in \u001b[36mExecutor.wait_for_ready_callbacks\u001b[39m\u001b[34m(self, *args, **kwargs)\u001b[39m\n\u001b[32m    790\u001b[39m     \u001b[38;5;28mself\u001b[39m._cb_iter = \u001b[38;5;28mself\u001b[39m._wait_for_ready_callbacks(*args, **kwargs)\n\u001b[32m    792\u001b[39m \u001b[38;5;28;01mtry\u001b[39;00m:\n\u001b[32m--> \u001b[39m\u001b[32m793\u001b[39m     \u001b[38;5;28;01mreturn\u001b[39;00m \u001b[38;5;28;43mnext\u001b[39;49m\u001b[43m(\u001b[49m\u001b[38;5;28;43mself\u001b[39;49m\u001b[43m.\u001b[49m\u001b[43m_cb_iter\u001b[49m\u001b[43m)\u001b[49m\n\u001b[32m    794\u001b[39m \u001b[38;5;28;01mexcept\u001b[39;00m \u001b[38;5;167;01mStopIteration\u001b[39;00m:\n\u001b[32m    795\u001b[39m     \u001b[38;5;66;03m# Generator ran out of work\u001b[39;00m\n\u001b[32m    796\u001b[39m     \u001b[38;5;28mself\u001b[39m._cb_iter = \u001b[38;5;28;01mNone\u001b[39;00m\n",
            "\u001b[36mFile \u001b[39m\u001b[32m/opt/ros/jazzy/lib/python3.12/site-packages/rclpy/executors.py:697\u001b[39m, in \u001b[36mExecutor._wait_for_ready_callbacks\u001b[39m\u001b[34m(self, timeout_sec, nodes, condition)\u001b[39m\n\u001b[32m    694\u001b[39m     waitable.add_to_wait_set(wait_set)\n\u001b[32m    696\u001b[39m \u001b[38;5;66;03m# Wait for something to become ready\u001b[39;00m\n\u001b[32m--> \u001b[39m\u001b[32m697\u001b[39m \u001b[43mwait_set\u001b[49m\u001b[43m.\u001b[49m\u001b[43mwait\u001b[49m\u001b[43m(\u001b[49m\u001b[43mtimeout_nsec\u001b[49m\u001b[43m)\u001b[49m\n\u001b[32m    698\u001b[39m \u001b[38;5;28;01mif\u001b[39;00m \u001b[38;5;28mself\u001b[39m._is_shutdown:\n\u001b[32m    699\u001b[39m     \u001b[38;5;28;01mraise\u001b[39;00m ShutdownException()\n",
            "\u001b[31mKeyboardInterrupt\u001b[39m: "
          ]
        }
      ],
      "source": [
        "\n",
        "\n",
        "def main(args=None):\n",
        "    rclpy.init(args=args)\n",
        "    node = MappingNode()\n",
        "    rclpy.spin(node)\n",
        "    node.destroy_node()\n",
        "    rclpy.shutdown()\n",
        "\n",
        "if __name__ == '__main__':\n",
        "    main()\n"
      ]
    }
  ],
  "metadata": {
    "colab": {
      "provenance": []
    },
    "kernelspec": {
      "display_name": "venv",
      "language": "python",
      "name": "python3"
    },
    "language_info": {
      "codemirror_mode": {
        "name": "ipython",
        "version": 3
      },
      "file_extension": ".py",
      "mimetype": "text/x-python",
      "name": "python",
      "nbconvert_exporter": "python",
      "pygments_lexer": "ipython3",
      "version": "3.12.3"
    }
  },
  "nbformat": 4,
  "nbformat_minor": 0
}
