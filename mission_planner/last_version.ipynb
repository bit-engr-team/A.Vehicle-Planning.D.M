{
  "nbformat": 4,
  "nbformat_minor": 0,
  "metadata": {
    "colab": {
      "provenance": []
    },
    "kernelspec": {
      "name": "python3",
      "display_name": "Python 3"
    },
    "language_info": {
      "name": "python"
    }
  },
  "cells": [
    {
      "cell_type": "code",
      "source": [
        "import rclpy\n",
        "from rclpy.node import Node\n",
        "from sensor_msgs.msg import NavSatFix, Image\n",
        "import csv\n",
        "import os\n",
        "import numpy as np\n",
        "import matplotlib.pyplot as plt\n",
        "import cv2\n",
        "from cv_bridge import CvBridge\n",
        "\n"
      ],
      "metadata": {
        "colab": {
          "base_uri": "https://localhost:8080/",
          "height": 378
        },
        "id": "7K7csbtxzYzJ",
        "outputId": "55b47f73-4d2e-436e-dfbc-e86b12cfd0db"
      },
      "execution_count": 2,
      "outputs": [
        {
          "output_type": "error",
          "ename": "ModuleNotFoundError",
          "evalue": "No module named 'rclpy'",
          "traceback": [
            "\u001b[0;31m---------------------------------------------------------------------------\u001b[0m",
            "\u001b[0;31mModuleNotFoundError\u001b[0m                       Traceback (most recent call last)",
            "\u001b[0;32m<ipython-input-2-c728f4ca15c3>\u001b[0m in \u001b[0;36m<cell line: 0>\u001b[0;34m()\u001b[0m\n\u001b[0;32m----> 1\u001b[0;31m \u001b[0;32mimport\u001b[0m \u001b[0mrclpy\u001b[0m\u001b[0;34m\u001b[0m\u001b[0;34m\u001b[0m\u001b[0m\n\u001b[0m\u001b[1;32m      2\u001b[0m \u001b[0;32mfrom\u001b[0m \u001b[0mrclpy\u001b[0m\u001b[0;34m.\u001b[0m\u001b[0mnode\u001b[0m \u001b[0;32mimport\u001b[0m \u001b[0mNode\u001b[0m\u001b[0;34m\u001b[0m\u001b[0;34m\u001b[0m\u001b[0m\n\u001b[1;32m      3\u001b[0m \u001b[0;32mfrom\u001b[0m \u001b[0msensor_msgs\u001b[0m\u001b[0;34m.\u001b[0m\u001b[0mmsg\u001b[0m \u001b[0;32mimport\u001b[0m \u001b[0mNavSatFix\u001b[0m\u001b[0;34m,\u001b[0m \u001b[0mImage\u001b[0m\u001b[0;34m\u001b[0m\u001b[0;34m\u001b[0m\u001b[0m\n\u001b[1;32m      4\u001b[0m \u001b[0;32mimport\u001b[0m \u001b[0mcsv\u001b[0m\u001b[0;34m\u001b[0m\u001b[0;34m\u001b[0m\u001b[0m\n\u001b[1;32m      5\u001b[0m \u001b[0;32mimport\u001b[0m \u001b[0mos\u001b[0m\u001b[0;34m\u001b[0m\u001b[0;34m\u001b[0m\u001b[0m\n",
            "\u001b[0;31mModuleNotFoundError\u001b[0m: No module named 'rclpy'",
            "",
            "\u001b[0;31m---------------------------------------------------------------------------\u001b[0;32m\nNOTE: If your import is failing due to a missing package, you can\nmanually install dependencies using either !pip or !apt.\n\nTo view examples of installing some common dependencies, click the\n\"Open Examples\" button below.\n\u001b[0;31m---------------------------------------------------------------------------\u001b[0m\n"
          ],
          "errorDetails": {
            "actions": [
              {
                "action": "open_url",
                "actionText": "Open Examples",
                "url": "/notebooks/snippets/importing_libraries.ipynb"
              }
            ]
          }
        }
      ]
    },
    {
      "cell_type": "code",
      "source": [
        "DATA_FILE = \"gnss_data.csv\"\n",
        "WAYPOINT_FILE = \"waypoints.csv\"\n",
        "IMG_TOPIC = \"/mapping/gps_map_image\"\n",
        "\n",
        "class MappingNode(Node):\n",
        "    def __init__(self):\n",
        "        super().__init__('mapping_node')\n",
        "        self.get_logger().info('Mapping node başlatıldı')\n",
        "        self.gps_sub = self.create_subscription(NavSatFix, '/carla/gps', self.gps_callback, 10)\n",
        "        self.img_pub = self.create_publisher(Image, IMG_TOPIC, 1)\n",
        "        self.bridge = CvBridge()\n",
        "        self.gps_points = []\n",
        "        self.load_data()\n",
        "\n",
        "    def load_data(self):\n",
        "        if os.path.exists(DATA_FILE):\n",
        "            with open(DATA_FILE, \"r\") as f:\n",
        "                reader = csv.reader(f)\n",
        "                for row in reader:\n",
        "                    lat, lon, alt, stamp = map(float, row)\n",
        "                    self.gps_points.append((lat, lon, alt, stamp))\n",
        "            self.get_logger().info(f\"{len(self.gps_points)} eski GNSS noktası yüklendi.\")\n"
      ],
      "metadata": {
        "colab": {
          "base_uri": "https://localhost:8080/",
          "height": 207
        },
        "id": "pVHG1GM3zYvf",
        "outputId": "858a0eb0-2164-47d1-f31c-a23356dde8d4"
      },
      "execution_count": 3,
      "outputs": [
        {
          "output_type": "error",
          "ename": "NameError",
          "evalue": "name 'Node' is not defined",
          "traceback": [
            "\u001b[0;31m---------------------------------------------------------------------------\u001b[0m",
            "\u001b[0;31mNameError\u001b[0m                                 Traceback (most recent call last)",
            "\u001b[0;32m<ipython-input-3-9113f6130d02>\u001b[0m in \u001b[0;36m<cell line: 0>\u001b[0;34m()\u001b[0m\n\u001b[1;32m      3\u001b[0m \u001b[0mIMG_TOPIC\u001b[0m \u001b[0;34m=\u001b[0m \u001b[0;34m\"/mapping/gps_map_image\"\u001b[0m\u001b[0;34m\u001b[0m\u001b[0;34m\u001b[0m\u001b[0m\n\u001b[1;32m      4\u001b[0m \u001b[0;34m\u001b[0m\u001b[0m\n\u001b[0;32m----> 5\u001b[0;31m \u001b[0;32mclass\u001b[0m \u001b[0mMappingNode\u001b[0m\u001b[0;34m(\u001b[0m\u001b[0mNode\u001b[0m\u001b[0;34m)\u001b[0m\u001b[0;34m:\u001b[0m\u001b[0;34m\u001b[0m\u001b[0;34m\u001b[0m\u001b[0m\n\u001b[0m\u001b[1;32m      6\u001b[0m     \u001b[0;32mdef\u001b[0m \u001b[0m__init__\u001b[0m\u001b[0;34m(\u001b[0m\u001b[0mself\u001b[0m\u001b[0;34m)\u001b[0m\u001b[0;34m:\u001b[0m\u001b[0;34m\u001b[0m\u001b[0;34m\u001b[0m\u001b[0m\n\u001b[1;32m      7\u001b[0m         \u001b[0msuper\u001b[0m\u001b[0;34m(\u001b[0m\u001b[0;34m)\u001b[0m\u001b[0;34m.\u001b[0m\u001b[0m__init__\u001b[0m\u001b[0;34m(\u001b[0m\u001b[0;34m'mapping_node'\u001b[0m\u001b[0;34m)\u001b[0m\u001b[0;34m\u001b[0m\u001b[0;34m\u001b[0m\u001b[0m\n",
            "\u001b[0;31mNameError\u001b[0m: name 'Node' is not defined"
          ]
        }
      ]
    },
    {
      "cell_type": "code",
      "source": [
        "\n",
        "    def save_point(self, lat, lon, alt, stamp):\n",
        "        with open(DATA_FILE, \"a\") as f:\n",
        "            writer = csv.writer(f)\n",
        "            writer.writerow([lat, lon, alt, stamp])\n",
        "\n",
        "    def gps_callback(self, msg):\n",
        "        lat, lon, alt = msg.latitude, msg.longitude, msg.altitude\n",
        "        stamp = msg.header.stamp.sec + msg.header.stamp.nanosec * 1e-9\n",
        "        self.gps_points.append((lat, lon, alt, stamp))\n",
        "        self.save_point(lat, lon, alt, stamp)\n",
        "        self.get_logger().info(f\"GNSS kaydedildi: {lat:.6f}, {lon:.6f}, {alt:.2f}, {stamp:.2f}\")\n",
        "        self.publish_map_image()\n",
        "\n",
        "    def compute_angle(self, p1, p2, p3):\n",
        "        v1 = np.array([p1[0] - p2[0], p1[1] - p2[1]])\n",
        "        v2 = np.array([p3[0] - p2[0], p3[1] - p2[1]])\n",
        "        if np.linalg.norm(v1) == 0 or np.linalg.norm(v2) == 0:\n",
        "            return 180\n",
        "        unit_v1 = v1 / np.linalg.norm(v1)\n",
        "        unit_v2 = v2 / np.linalg.norm(v2)\n",
        "        dot_product = np.clip(np.dot(unit_v1, unit_v2), -1.0, 1.0)\n",
        "        angle = np.degrees(np.arccos(dot_product))\n",
        "        return angle\n",
        "\n",
        "    def extract_waypoints(self, points, angle_threshold=30):\n",
        "        sorted_points = sorted(points, key=lambda p: p[3])\n",
        "        waypoints = []\n",
        "        for i in range(1, len(sorted_points) - 1):\n",
        "            p1, p2, p3 = sorted_points[i-1], sorted_points[i], sorted_points[i+1]\n",
        "            angle = self.compute_angle(p1, p2, p3)\n",
        "            if angle < (180 - angle_threshold):\n",
        "                waypoints.append(p2)\n",
        "        return waypoints\n",
        "\n",
        "    def publish_map_image(self):\n",
        "        if len(self.gps_points) < 3:\n",
        "            return\n",
        "\n",
        "        sorted_points = sorted(self.gps_points, key=lambda x: x[3])\n",
        "        filtered_points = []\n",
        "        last_lat, last_lon = None, None\n",
        "\n",
        "        for lat, lon, alt, stamp in sorted_points:\n",
        "            if last_lat is not None:\n",
        "                dist = np.sqrt((lat - last_lat)**2 + (lon - last_lon)**2)\n",
        "                if dist < 1e-6:\n",
        "                    continue\n",
        "            filtered_points.append((lat, lon, alt, stamp))\n",
        "            last_lat, last_lon = lat, lon\n",
        "\n",
        "        if len(filtered_points) < 3:\n",
        "            return\n",
        "\n",
        "        # Waypointleri çıkar\n",
        "        waypoints = self.extract_waypoints(filtered_points)\n",
        "\n",
        "        # Harita çizimi\n",
        "        lats = [p[0] for p in filtered_points]\n",
        "        lons = [p[1] for p in filtered_points]\n",
        "\n",
        "        plt.figure(figsize=(6, 6))\n",
        "        plt.plot(lons, lats, 'bo-', markersize=2, label='GNSS Yol')\n",
        "        for wp in waypoints:\n",
        "            plt.plot(wp[1], wp[0], 'ro', markersize=5)  # lon, lat\n",
        "        plt.legend()\n",
        "        plt.xlabel(\"Longitude\")\n",
        "        plt.ylabel(\"Latitude\")\n",
        "        plt.title(\"GNSS Yol ve Waypoint Haritası\")\n",
        "        plt.grid(True)\n",
        "        plt.tight_layout()\n",
        "        plt.savefig(\"map.png\")\n",
        "        plt.close()\n",
        "\n",
        "        # Görseli yayınla\n",
        "        img = cv2.imread(\"map.png\")\n",
        "        if img is not None:\n",
        "            img_msg = self.bridge.cv2_to_imgmsg(img, encoding=\"bgr8\")\n",
        "            self.img_pub.publish(img_msg)\n",
        "\n",
        "        # Waypoint'leri kaydet\n",
        "        with open(WAYPOINT_FILE, \"w\") as f:\n",
        "            writer = csv.writer(f)\n",
        "            for wp in waypoints:\n",
        "                writer.writerow([wp[0], wp[1], wp[2], wp[3]])\n",
        "\n",
        "def main(args=None):\n",
        "    rclpy.init(args=args)\n",
        "    node = MappingNode()\n",
        "    rclpy.spin(node)\n",
        "    node.destroy_node()\n",
        "    rclpy.shutdown()\n",
        "\n",
        "if __name__ == '__main__':\n",
        "    main()\n"
      ],
      "metadata": {
        "id": "pnqbdruezYs4"
      },
      "execution_count": null,
      "outputs": []
    },
    {
      "cell_type": "code",
      "source": [],
      "metadata": {
        "id": "7QRKMNhYzYqz"
      },
      "execution_count": null,
      "outputs": []
    },
    {
      "cell_type": "code",
      "source": [],
      "metadata": {
        "id": "v7e8f4yizYod"
      },
      "execution_count": null,
      "outputs": []
    },
    {
      "cell_type": "code",
      "source": [],
      "metadata": {
        "id": "ogIR9Xq1zYmG"
      },
      "execution_count": null,
      "outputs": []
    },
    {
      "cell_type": "code",
      "source": [],
      "metadata": {
        "id": "uRo29_8CzYjx"
      },
      "execution_count": null,
      "outputs": []
    },
    {
      "cell_type": "code",
      "source": [],
      "metadata": {
        "id": "NQSsPo3tzYg_"
      },
      "execution_count": null,
      "outputs": []
    }
  ]
}